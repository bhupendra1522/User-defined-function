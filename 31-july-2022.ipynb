{
 "cells": [
  {
   "cell_type": "markdown",
   "id": "ee7f09dc",
   "metadata": {},
   "source": [
    "user defined function"
   ]
  },
  {
   "cell_type": "code",
   "execution_count": 1,
   "id": "9fb28bf5",
   "metadata": {},
   "outputs": [],
   "source": [
    "def squareroot_func():\n",
    "    x=25\n",
    "    y=x**(1/2)\n",
    "    print(\"the square root of x= \",x,\"is\",y)\n",
    "    "
   ]
  },
  {
   "cell_type": "code",
   "execution_count": 3,
   "id": "a6fc6416",
   "metadata": {},
   "outputs": [
    {
     "name": "stdout",
     "output_type": "stream",
     "text": [
      "the square root of x=  25 is 5.0\n"
     ]
    }
   ],
   "source": [
    "squareroot_func()"
   ]
  },
  {
   "cell_type": "code",
   "execution_count": 4,
   "id": "bc04afd4",
   "metadata": {},
   "outputs": [],
   "source": [
    "def squareroot_func():\n",
    "    x=int(input(\"enter any number\"))\n",
    "    y=x**(1/2)\n",
    "    print(\"the square root of x= \",x,\"is\",y)\n",
    "    "
   ]
  },
  {
   "cell_type": "code",
   "execution_count": 7,
   "id": "8f8c1338",
   "metadata": {},
   "outputs": [
    {
     "name": "stdout",
     "output_type": "stream",
     "text": [
      "enter any number64\n",
      "the square root of x=  64 is 8.0\n"
     ]
    }
   ],
   "source": [
    "squareroot_func()"
   ]
  },
  {
   "cell_type": "code",
   "execution_count": 8,
   "id": "cbaf77ed",
   "metadata": {},
   "outputs": [],
   "source": [
    "def area_of_circle():\n",
    "    pi=3.14\n",
    "    redius=10\n",
    "    area=pi*(redius**2)\n",
    "    print(\"the are of circle =\",area)"
   ]
  },
  {
   "cell_type": "code",
   "execution_count": 9,
   "id": "81c5fa98",
   "metadata": {},
   "outputs": [
    {
     "name": "stdout",
     "output_type": "stream",
     "text": [
      "the are of circle = 314.0\n"
     ]
    }
   ],
   "source": [
    "area_of_circle()"
   ]
  },
  {
   "cell_type": "raw",
   "id": "58b1ca76",
   "metadata": {},
   "source": []
  },
  {
   "cell_type": "code",
   "execution_count": 23,
   "id": "d86b7d2a",
   "metadata": {},
   "outputs": [],
   "source": [
    "def area_of_circle():\n",
    "    pi=3.14\n",
    "    redius=int(input(\"enter the redius\"))\n",
    "    area=pi*(redius**2)\n",
    "    print(\"the area of circle =\",area)\n",
    "    print(\"the area of circle =\",round,(area,2))\n",
    "           "
   ]
  },
  {
   "cell_type": "code",
   "execution_count": 28,
   "id": "766d97e6",
   "metadata": {},
   "outputs": [
    {
     "name": "stdout",
     "output_type": "stream",
     "text": [
      "enter the redius145\n",
      "the area of circle = 66018.5\n",
      "the area of circle = <built-in function round> (66018.5, 2)\n"
     ]
    }
   ],
   "source": [
    "area_of_circle()"
   ]
  },
  {
   "cell_type": "code",
   "execution_count": 26,
   "id": "389f16c6",
   "metadata": {},
   "outputs": [],
   "source": [
    "def sq():\n",
    "    x=int(input(\"enter any number\"))\n",
    "    square_root=x**(1/2)\n",
    "    print(\"the square root of x= \",x,\"is\",square_root)\n",
    "    square=x**2\n",
    "    print(\"the square root of x= \",x,\"is\",square)\n",
    "    "
   ]
  },
  {
   "cell_type": "code",
   "execution_count": 27,
   "id": "068c8d65",
   "metadata": {},
   "outputs": [
    {
     "name": "stdout",
     "output_type": "stream",
     "text": [
      "enter any number25\n",
      "the square root of x=  25 is 5.0\n",
      "the square root of x=  25 is 625\n"
     ]
    }
   ],
   "source": [
    "sq()"
   ]
  },
  {
   "cell_type": "code",
   "execution_count": 29,
   "id": "a3191c58",
   "metadata": {},
   "outputs": [],
   "source": [
    "g=7877.564389233"
   ]
  },
  {
   "cell_type": "code",
   "execution_count": 30,
   "id": "b90dee2f",
   "metadata": {},
   "outputs": [
    {
     "data": {
      "text/plain": [
       "78.776"
      ]
     },
     "execution_count": 30,
     "metadata": {},
     "output_type": "execute_result"
    }
   ],
   "source": [
    "round(g,3)"
   ]
  },
  {
   "cell_type": "code",
   "execution_count": 13,
   "id": "b4f08fbe",
   "metadata": {},
   "outputs": [],
   "source": [
    "def area_rect():\n",
    "    l=78\n",
    "    b=34\n",
    "    area=l*b\n",
    "    print(area)"
   ]
  },
  {
   "cell_type": "code",
   "execution_count": 14,
   "id": "baa6e65e",
   "metadata": {},
   "outputs": [
    {
     "name": "stdout",
     "output_type": "stream",
     "text": [
      "2652\n"
     ]
    }
   ],
   "source": [
    "area_rect()"
   ]
  },
  {
   "cell_type": "code",
   "execution_count": 9,
   "id": "83893d1f",
   "metadata": {},
   "outputs": [],
   "source": [
    "def area_rect():\n",
    "    l=float(input(\"enter length\"))\n",
    "    b=float(input(\"enter breath\"))\n",
    "    area=l*b\n",
    "    print(area)\n",
    "    print(\"area =\",round(area,2))"
   ]
  },
  {
   "cell_type": "code",
   "execution_count": 10,
   "id": "fee2f921",
   "metadata": {},
   "outputs": [
    {
     "name": "stdout",
     "output_type": "stream",
     "text": [
      "enter length34.96\n",
      "enter breath23.36\n",
      "816.6656\n",
      "area = 816.67\n"
     ]
    }
   ],
   "source": [
    "area_rect()"
   ]
  },
  {
   "cell_type": "code",
   "execution_count": 11,
   "id": "eae4eb7d",
   "metadata": {},
   "outputs": [],
   "source": [
    "def area_rect():\n",
    "    l=int(input(\"enter length\"))\n",
    "    b=int(input(\"enter breath\"))\n",
    "    area=l*b\n",
    "    print(area)"
   ]
  },
  {
   "cell_type": "code",
   "execution_count": 12,
   "id": "0a73f7e5",
   "metadata": {},
   "outputs": [
    {
     "name": "stdout",
     "output_type": "stream",
     "text": [
      "enter length100\n",
      "enter breath326\n",
      "32600\n"
     ]
    }
   ],
   "source": [
    "area_rect()"
   ]
  },
  {
   "cell_type": "code",
   "execution_count": 3,
   "id": "fc09bc64",
   "metadata": {},
   "outputs": [],
   "source": [
    "def add_f():\n",
    "    a=10\n",
    "    b=20\n",
    "    result=a+b\n",
    "    print(\"result=\",result)"
   ]
  },
  {
   "cell_type": "code",
   "execution_count": 4,
   "id": "b7b56dcf",
   "metadata": {},
   "outputs": [
    {
     "name": "stdout",
     "output_type": "stream",
     "text": [
      "result= 30\n"
     ]
    }
   ],
   "source": [
    "add_f()"
   ]
  },
  {
   "cell_type": "code",
   "execution_count": 5,
   "id": "9d13fd0d",
   "metadata": {},
   "outputs": [],
   "source": [
    "def subtraction_f(a,b):\n",
    "    result=a-b\n",
    "    print(\"result=\",result)"
   ]
  },
  {
   "cell_type": "code",
   "execution_count": 6,
   "id": "9481737c",
   "metadata": {},
   "outputs": [
    {
     "name": "stdout",
     "output_type": "stream",
     "text": [
      "result= 30\n"
     ]
    }
   ],
   "source": [
    "a=50\n",
    "b=20\n",
    "subtraction_f(a,b)"
   ]
  },
  {
   "cell_type": "code",
   "execution_count": 8,
   "id": "17e4f5fe",
   "metadata": {},
   "outputs": [],
   "source": [
    "def square_f(a):\n",
    "    s=a**2\n",
    "    print(\"thr square is\",s)"
   ]
  },
  {
   "cell_type": "code",
   "execution_count": 9,
   "id": "a983e9e8",
   "metadata": {},
   "outputs": [
    {
     "name": "stdout",
     "output_type": "stream",
     "text": [
      "thr square is 49\n"
     ]
    }
   ],
   "source": [
    "a=7\n",
    "square_f(a)"
   ]
  },
  {
   "cell_type": "code",
   "execution_count": 10,
   "id": "a0f6369b",
   "metadata": {},
   "outputs": [],
   "source": [
    "def area_of_circle(redius):\n",
    "    pi=3.14\n",
    "    area=pi*(redius**2)\n",
    "    print(\"the are of circle =\",area)"
   ]
  },
  {
   "cell_type": "code",
   "execution_count": 11,
   "id": "dcbde177",
   "metadata": {},
   "outputs": [
    {
     "name": "stdout",
     "output_type": "stream",
     "text": [
      "the are of circle = 25434.0\n"
     ]
    }
   ],
   "source": [
    "redius=90\n",
    "area_of_circle(redius)\n"
   ]
  },
  {
   "cell_type": "code",
   "execution_count": 22,
   "id": "acf52fdb",
   "metadata": {},
   "outputs": [],
   "source": [
    "def add_func(a,b):\n",
    "    result=a+b\n",
    "    print(\"result=\",result)"
   ]
  },
  {
   "cell_type": "code",
   "execution_count": 23,
   "id": "52a8fa71",
   "metadata": {},
   "outputs": [
    {
     "name": "stdout",
     "output_type": "stream",
     "text": [
      "Enter any number a45\n",
      "Enter any number b90\n",
      "result= 135\n"
     ]
    }
   ],
   "source": [
    "a=int(input(\"Enter any number a\"))\n",
    "b=int(input(\"Enter any number b\"))\n",
    "add_func(a,b)"
   ]
  },
  {
   "cell_type": "code",
   "execution_count": null,
   "id": "ed9a8770",
   "metadata": {},
   "outputs": [],
   "source": [
    "def area_of_circle(redius):\n",
    "    pi=3.14\n",
    "    area=pi*(redius**2)\n",
    "    print(\"the are of circle =\",area)"
   ]
  },
  {
   "cell_type": "code",
   "execution_count": 27,
   "id": "230a25af",
   "metadata": {},
   "outputs": [
    {
     "name": "stdout",
     "output_type": "stream",
     "text": [
      "enter any redius88\n",
      "the are of circle = 25434.0\n"
     ]
    }
   ],
   "source": [
    "radius=int(input(\"enter any redius\"))\n",
    "area_of_circle(redius)\n"
   ]
  },
  {
   "cell_type": "code",
   "execution_count": 29,
   "id": "3d8e535e",
   "metadata": {},
   "outputs": [],
   "source": [
    "def square_func(x):\n",
    "    square_root=x**(1/2)\n",
    "    print(\"the square root of x= \",x,\"is\",square_root)\n",
    "    square=x**2\n",
    "    print(\"the square root of x= \",x,\"is\",square)"
   ]
  },
  {
   "cell_type": "code",
   "execution_count": 30,
   "id": "9920039e",
   "metadata": {},
   "outputs": [
    {
     "name": "stdout",
     "output_type": "stream",
     "text": [
      "enter any value90\n",
      "the square root of x=  90 is 9.486832980505138\n",
      "the square root of x=  90 is 8100\n"
     ]
    }
   ],
   "source": [
    "x=int(input(\"enter any value\"))\n",
    "square_func(x)"
   ]
  },
  {
   "cell_type": "code",
   "execution_count": 39,
   "id": "ccb82c7d",
   "metadata": {},
   "outputs": [],
   "source": [
    "def func1():\n",
    "    for i in range(1,11):\n",
    "        print(i)"
   ]
  },
  {
   "cell_type": "code",
   "execution_count": 40,
   "id": "b5a169bf",
   "metadata": {},
   "outputs": [
    {
     "name": "stdout",
     "output_type": "stream",
     "text": [
      "1\n",
      "2\n",
      "3\n",
      "4\n",
      "5\n",
      "6\n",
      "7\n",
      "8\n",
      "9\n",
      "10\n"
     ]
    }
   ],
   "source": [
    "func1()"
   ]
  },
  {
   "cell_type": "code",
   "execution_count": 41,
   "id": "7b04df15",
   "metadata": {},
   "outputs": [],
   "source": [
    "def func2():\n",
    "    for i in range(5,50,5):\n",
    "        print(i)"
   ]
  },
  {
   "cell_type": "code",
   "execution_count": 42,
   "id": "025ed25c",
   "metadata": {},
   "outputs": [
    {
     "name": "stdout",
     "output_type": "stream",
     "text": [
      "5\n",
      "10\n",
      "15\n",
      "20\n",
      "25\n",
      "30\n",
      "35\n",
      "40\n",
      "45\n"
     ]
    }
   ],
   "source": [
    "func2()"
   ]
  },
  {
   "cell_type": "code",
   "execution_count": 46,
   "id": "07f4aaa9",
   "metadata": {},
   "outputs": [],
   "source": [
    "def func3(x):\n",
    "    for i in range(1,11):\n",
    "        print(x*i)"
   ]
  },
  {
   "cell_type": "code",
   "execution_count": 47,
   "id": "2716b00d",
   "metadata": {},
   "outputs": [
    {
     "name": "stdout",
     "output_type": "stream",
     "text": [
      "2\n",
      "4\n",
      "6\n",
      "8\n",
      "10\n",
      "12\n",
      "14\n",
      "16\n",
      "18\n",
      "20\n"
     ]
    }
   ],
   "source": [
    "x=2\n",
    "func3(x)"
   ]
  },
  {
   "cell_type": "code",
   "execution_count": 50,
   "id": "0cbf8d59",
   "metadata": {},
   "outputs": [],
   "source": [
    "def func4(x):\n",
    "    for i in range(1,11):\n",
    "        print(x,\"*\",i,\"=\",x*i)"
   ]
  },
  {
   "cell_type": "code",
   "execution_count": 53,
   "id": "774b224e",
   "metadata": {
    "scrolled": true
   },
   "outputs": [
    {
     "name": "stdout",
     "output_type": "stream",
     "text": [
      "enter any number2\n",
      "2 * 1 = 2\n",
      "2 * 2 = 4\n",
      "2 * 3 = 6\n",
      "2 * 4 = 8\n",
      "2 * 5 = 10\n",
      "2 * 6 = 12\n",
      "2 * 7 = 14\n",
      "2 * 8 = 16\n",
      "2 * 9 = 18\n",
      "2 * 10 = 20\n"
     ]
    }
   ],
   "source": [
    "x=int(input(\"enter any number\"))\n",
    "func4(x)"
   ]
  },
  {
   "cell_type": "code",
   "execution_count": 67,
   "id": "2dd8edcc",
   "metadata": {},
   "outputs": [],
   "source": [
    "def table_func1(x):\n",
    "    for i in range(1,12):\n",
    "        print(x,\"*\",i,\"=\",x*i)"
   ]
  },
  {
   "cell_type": "code",
   "execution_count": 69,
   "id": "87b446b0",
   "metadata": {},
   "outputs": [
    {
     "name": "stdout",
     "output_type": "stream",
     "text": [
      "enter any number to generate the table6\n",
      "6 * 1 = 6\n",
      "6 * 2 = 12\n",
      "6 * 3 = 18\n",
      "6 * 4 = 24\n",
      "6 * 5 = 30\n",
      "6 * 6 = 36\n",
      "6 * 7 = 42\n",
      "6 * 8 = 48\n",
      "6 * 9 = 54\n",
      "6 * 10 = 60\n",
      "6 * 11 = 66\n"
     ]
    }
   ],
   "source": [
    "x=int(input(\"enter any number to generate the table\"))\n",
    "table_func1(x)"
   ]
  },
  {
   "cell_type": "code",
   "execution_count": 83,
   "id": "503483d9",
   "metadata": {},
   "outputs": [],
   "source": [
    "def test_f():\n",
    "    list1=[]\n",
    "    for i in range(1,7):\n",
    "        list1.append(i)\n",
    "    print(list1)\n"
   ]
  },
  {
   "cell_type": "code",
   "execution_count": 84,
   "id": "d447fdd8",
   "metadata": {},
   "outputs": [
    {
     "name": "stdout",
     "output_type": "stream",
     "text": [
      "[1, 2, 3, 4, 5, 6]\n"
     ]
    }
   ],
   "source": [
    "test_f()"
   ]
  },
  {
   "cell_type": "code",
   "execution_count": 8,
   "id": "866a2647",
   "metadata": {},
   "outputs": [],
   "source": [
    "def test_f1():\n",
    "    list2=[]\n",
    "    for i in ['a','b','c']:\n",
    "              list2.append(i)\n",
    "    print(\"list2=\",list2)"
   ]
  },
  {
   "cell_type": "code",
   "execution_count": 9,
   "id": "48d3db0f",
   "metadata": {},
   "outputs": [
    {
     "name": "stdout",
     "output_type": "stream",
     "text": [
      "list2= ['a', 'b', 'c']\n"
     ]
    }
   ],
   "source": [
    "test_f1()"
   ]
  },
  {
   "cell_type": "code",
   "execution_count": 13,
   "id": "477e5199",
   "metadata": {},
   "outputs": [],
   "source": [
    "def test_f3():\n",
    "    list1=[]\n",
    "    for i in range(20): \n",
    "        if i%2==0:        \n",
    "            list1.append(i)\n",
    "    print(list1)"
   ]
  },
  {
   "cell_type": "code",
   "execution_count": 14,
   "id": "c3f59f60",
   "metadata": {},
   "outputs": [
    {
     "name": "stdout",
     "output_type": "stream",
     "text": [
      "[0, 2, 4, 6, 8, 10, 12, 14, 16, 18]\n"
     ]
    }
   ],
   "source": [
    "test_f3()"
   ]
  },
  {
   "cell_type": "code",
   "execution_count": 15,
   "id": "23aa7325",
   "metadata": {},
   "outputs": [],
   "source": [
    "def test_f4():\n",
    "    list1=[]\n",
    "    for i in range(20): \n",
    "        if i%2!=0:        \n",
    "            list1.append(i)\n",
    "    print(list1)"
   ]
  },
  {
   "cell_type": "code",
   "execution_count": 16,
   "id": "1ea54e35",
   "metadata": {},
   "outputs": [
    {
     "name": "stdout",
     "output_type": "stream",
     "text": [
      "[1, 3, 5, 7, 9, 11, 13, 15, 17, 19]\n"
     ]
    }
   ],
   "source": [
    "test_f4()"
   ]
  },
  {
   "cell_type": "code",
   "execution_count": null,
   "id": "b16b18d2",
   "metadata": {},
   "outputs": [],
   "source": []
  }
 ],
 "metadata": {
  "kernelspec": {
   "display_name": "Python 3 (ipykernel)",
   "language": "python",
   "name": "python3"
  },
  "language_info": {
   "codemirror_mode": {
    "name": "ipython",
    "version": 3
   },
   "file_extension": ".py",
   "mimetype": "text/x-python",
   "name": "python",
   "nbconvert_exporter": "python",
   "pygments_lexer": "ipython3",
   "version": "3.9.12"
  }
 },
 "nbformat": 4,
 "nbformat_minor": 5
}
